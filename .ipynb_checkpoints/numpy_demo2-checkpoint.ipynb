{
 "cells": [
  {
   "cell_type": "markdown",
   "id": "5b7d5f32-0dab-459f-ac1c-85f33c370ac8",
   "metadata": {},
   "source": [
    "**Numpy** Demo"
   ]
  },
  {
   "cell_type": "code",
   "execution_count": null,
   "id": "cf54dfb9",
   "metadata": {},
   "outputs": [],
   "source": []
  },
  {
   "cell_type": "code",
   "execution_count": null,
   "metadata": {},
   "outputs": [],
   "source": []
  },
  {
   "cell_type": "code",
   "execution_count": 1,
   "id": "70edd981-4f66-4950-811b-dd588a9ca7fb",
   "metadata": {},
   "outputs": [],
   "source": [
    "import numpy as np"
   ]
  },
  {
   "cell_type": "code",
   "execution_count": null,
   "id": "94339d6b",
   "metadata": {},
   "outputs": [],
   "source": []
  },
  {
   "cell_type": "code",
   "execution_count": 2,
   "id": "9dac6a06-3214-49b7-b6f5-648a98c1bc77",
   "metadata": {},
   "outputs": [
    {
     "data": {
      "text/plain": [
       "array([3, 5, 3, 2], dtype=int8)"
      ]
     },
     "execution_count": 2,
     "metadata": {},
     "output_type": "execute_result"
    }
   ],
   "source": [
    "arr=np.array([3,5,3,2],np.int8)\n",
    "arr"
   ]
  },
  {
   "cell_type": "code",
   "execution_count": 3,
   "id": "6d7fc867-a563-4a4d-904c-36e7fe1057b3",
   "metadata": {},
   "outputs": [
    {
     "data": {
      "text/plain": [
       "(4,)"
      ]
     },
     "execution_count": 3,
     "metadata": {},
     "output_type": "execute_result"
    }
   ],
   "source": [
    "arr.shape"
   ]
  },
  {
   "cell_type": "code",
   "execution_count": 4,
   "id": "57a7173d-934e-41e7-a1c7-a4b0aefa90b1",
   "metadata": {},
   "outputs": [
    {
     "data": {
      "text/plain": [
       "dtype('int8')"
      ]
     },
     "execution_count": 4,
     "metadata": {},
     "output_type": "execute_result"
    }
   ],
   "source": [
    "arr.dtype"
   ]
  },
  {
   "cell_type": "markdown",
   "id": "27e0607c-44dc-42a2-82c8-5f3bac313d80",
   "metadata": {},
   "source": [
    "#**Convertion from other python structure**"
   ]
  },
  {
   "cell_type": "code",
   "execution_count": 5,
   "id": "639422c6-bb92-424c-9dd5-86bf16a443fe",
   "metadata": {},
   "outputs": [
    {
     "data": {
      "text/plain": [
       "array([[ 2,  3,  4],\n",
       "       [46,  3,  2],\n",
       "       [ 3,  4,  5]])"
      ]
     },
     "execution_count": 5,
     "metadata": {},
     "output_type": "execute_result"
    }
   ],
   "source": [
    "a1=np.array([[2,3,4], [46,3,2], [3,4,5]])\n",
    "a1"
   ]
  },
  {
   "cell_type": "code",
   "execution_count": 6,
   "id": "9c141c8c-6225-4e8b-b0e2-989a161d88f8",
   "metadata": {},
   "outputs": [
    {
     "data": {
      "text/plain": [
       "dtype('int32')"
      ]
     },
     "execution_count": 6,
     "metadata": {},
     "output_type": "execute_result"
    }
   ],
   "source": [
    "a1.dtype"
   ]
  },
  {
   "cell_type": "code",
   "execution_count": 7,
   "id": "c763599e-a0bb-4dcf-8597-619cab429ff0",
   "metadata": {},
   "outputs": [
    {
     "data": {
      "text/plain": [
       "(3, 3)"
      ]
     },
     "execution_count": 7,
     "metadata": {},
     "output_type": "execute_result"
    }
   ],
   "source": [
    "a1.shape"
   ]
  },
  {
   "cell_type": "code",
   "execution_count": 8,
   "id": "cd3ac051-4bee-4856-8e97-6ab837da1b23",
   "metadata": {},
   "outputs": [
    {
     "data": {
      "text/plain": [
       "9"
      ]
     },
     "execution_count": 8,
     "metadata": {},
     "output_type": "execute_result"
    }
   ],
   "source": [
    "a1.size"
   ]
  },
  {
   "cell_type": "code",
   "execution_count": 9,
   "id": "d64c0d4f-f62e-4e24-855c-c82f4b942fe8",
   "metadata": {},
   "outputs": [
    {
     "data": {
      "text/plain": [
       "array({2, 3, 4}, dtype=object)"
      ]
     },
     "execution_count": 9,
     "metadata": {},
     "output_type": "execute_result"
    }
   ],
   "source": [
    "a2=np.array({2,3,4})\n",
    "a2"
   ]
  },
  {
   "cell_type": "code",
   "execution_count": 10,
   "id": "f6be1e61-ec71-46de-b463-880e5fd0b038",
   "metadata": {},
   "outputs": [
    {
     "data": {
      "text/plain": [
       "array([[0., 0., 0., 0., 0.],\n",
       "       [0., 0., 0., 0., 0.]])"
      ]
     },
     "execution_count": 10,
     "metadata": {},
     "output_type": "execute_result"
    }
   ],
   "source": [
    "a3=np.zeros((2,5))\n",
    "a3"
   ]
  },
  {
   "cell_type": "code",
   "execution_count": 11,
   "id": "fd488978-e3fb-46a0-abf7-5d57d755bf86",
   "metadata": {},
   "outputs": [
    {
     "data": {
      "text/plain": [
       "10"
      ]
     },
     "execution_count": 11,
     "metadata": {},
     "output_type": "execute_result"
    }
   ],
   "source": [
    "a3.size"
   ]
  },
  {
   "cell_type": "code",
   "execution_count": 12,
   "id": "cae8d6fb-406f-43f8-8ec2-a0a774aee2a3",
   "metadata": {},
   "outputs": [
    {
     "data": {
      "text/plain": [
       "array([2, 3, 4, 5, 6, 7, 8, 9])"
      ]
     },
     "execution_count": 12,
     "metadata": {},
     "output_type": "execute_result"
    }
   ],
   "source": [
    "rng=np.arange(2,10)\n",
    "rng"
   ]
  },
  {
   "cell_type": "code",
   "execution_count": 13,
   "id": "72bca96c-5256-41c1-bf77-72d26d93902a",
   "metadata": {},
   "outputs": [
    {
     "data": {
      "text/plain": [
       "array([1.        , 1.11111111, 1.22222222, 1.33333333, 1.44444444,\n",
       "       1.55555556, 1.66666667, 1.77777778, 1.88888889, 2.        ])"
      ]
     },
     "execution_count": 13,
     "metadata": {},
     "output_type": "execute_result"
    }
   ],
   "source": [
    "a4=np.linspace(1,2,10) #10nos in between 1&2 of equal gap\n",
    "a4"
   ]
  },
  {
   "cell_type": "code",
   "execution_count": 14,
   "id": "31b39eb4-2c01-4f99-ae06-19abe07aef2c",
   "metadata": {},
   "outputs": [
    {
     "data": {
      "text/plain": [
       "array([1., 2., 3., 4., 5.])"
      ]
     },
     "execution_count": 14,
     "metadata": {},
     "output_type": "execute_result"
    }
   ],
   "source": [
    "a4=np.linspace(1,5,5)\n",
    "a4"
   ]
  },
  {
   "cell_type": "code",
   "execution_count": 15,
   "id": "11c88293-7692-4051-a900-51ad1c1da90e",
   "metadata": {},
   "outputs": [
    {
     "data": {
      "text/plain": [
       "array([[1.05833030e-311, 2.47032823e-322, 0.00000000e+000],\n",
       "       [0.00000000e+000, 1.01855798e-312, 8.60952352e-072],\n",
       "       [5.28468741e-091, 1.39938873e-076, 1.28378568e+160],\n",
       "       [3.59979602e+179, 3.99910963e+252, 1.90979636e-312]])"
      ]
     },
     "execution_count": 15,
     "metadata": {},
     "output_type": "execute_result"
    }
   ],
   "source": [
    "emp=np.empty((4,3)) #4x3 array with random elements\n",
    "emp"
   ]
  },
  {
   "cell_type": "code",
   "execution_count": 16,
   "id": "7af33636-5402-45c3-bbeb-ca0271c7ed11",
   "metadata": {},
   "outputs": [
    {
     "data": {
      "text/plain": [
       "array([1., 2., 3., 4., 5.])"
      ]
     },
     "execution_count": 16,
     "metadata": {},
     "output_type": "execute_result"
    }
   ],
   "source": [
    "empl=np.empty_like(a4) #same size array of a4\n",
    "empl"
   ]
  },
  {
   "cell_type": "markdown",
   "id": "c09c1fc8-e728-4ef0-870f-58983584f186",
   "metadata": {},
   "source": [
    "Math tools"
   ]
  },
  {
   "cell_type": "code",
   "execution_count": 17,
   "id": "c132b65c-1949-48fc-a378-9b5aab43b762",
   "metadata": {},
   "outputs": [],
   "source": [
    "id=np.identity(5) #identity matrix"
   ]
  },
  {
   "cell_type": "code",
   "execution_count": 18,
   "id": "3fd803ab-334c-4be5-9376-d4148f967ffb",
   "metadata": {},
   "outputs": [
    {
     "data": {
      "text/plain": [
       "array([[1., 0., 0., 0., 0.],\n",
       "       [0., 1., 0., 0., 0.],\n",
       "       [0., 0., 1., 0., 0.],\n",
       "       [0., 0., 0., 1., 0.],\n",
       "       [0., 0., 0., 0., 1.]])"
      ]
     },
     "execution_count": 18,
     "metadata": {},
     "output_type": "execute_result"
    }
   ],
   "source": [
    "id"
   ]
  },
  {
   "cell_type": "code",
   "execution_count": 19,
   "id": "0360c09f-35b9-4a64-b4bc-0f338814b83c",
   "metadata": {},
   "outputs": [
    {
     "data": {
      "text/plain": [
       "array([ 0,  1,  2,  3,  4,  5,  6,  7,  8,  9, 10, 11, 12, 13, 14])"
      ]
     },
     "execution_count": 19,
     "metadata": {},
     "output_type": "execute_result"
    }
   ],
   "source": [
    "a5=np.arange(15)\n",
    "a5"
   ]
  },
  {
   "cell_type": "code",
   "execution_count": 20,
   "id": "8361665d-a919-442f-b887-41afbe2394aa",
   "metadata": {},
   "outputs": [
    {
     "data": {
      "text/plain": [
       "array([[ 0,  1,  2],\n",
       "       [ 3,  4,  5],\n",
       "       [ 6,  7,  8],\n",
       "       [ 9, 10, 11],\n",
       "       [12, 13, 14]])"
      ]
     },
     "execution_count": 20,
     "metadata": {},
     "output_type": "execute_result"
    }
   ],
   "source": [
    "a6=a5.reshape(5,3)\n",
    "a6"
   ]
  },
  {
   "cell_type": "code",
   "execution_count": 21,
   "id": "eb9a7e6a-8685-4c92-b740-f124d5232e65",
   "metadata": {},
   "outputs": [
    {
     "data": {
      "text/plain": [
       "array([ 0,  1,  2,  3,  4,  5,  6,  7,  8,  9, 10, 11, 12, 13, 14])"
      ]
     },
     "execution_count": 21,
     "metadata": {},
     "output_type": "execute_result"
    }
   ],
   "source": [
    "a7=a6.ravel() # change to 1D array by using ravel()\n",
    "a7"
   ]
  },
  {
   "cell_type": "code",
   "execution_count": 22,
   "id": "c89cac6e-a3b5-4e71-b7e8-e13f3b851ab3",
   "metadata": {},
   "outputs": [
    {
     "data": {
      "text/plain": [
       "(15,)"
      ]
     },
     "execution_count": 22,
     "metadata": {},
     "output_type": "execute_result"
    }
   ],
   "source": [
    "a7.shape"
   ]
  },
  {
   "cell_type": "code",
   "execution_count": 23,
   "id": "6f731584-bb5b-45e7-ba68-e28c86c4ce43",
   "metadata": {},
   "outputs": [
    {
     "data": {
      "text/plain": [
       "array([[1, 2, 3],\n",
       "       [4, 5, 6],\n",
       "       [7, 3, 1]])"
      ]
     },
     "execution_count": 23,
     "metadata": {},
     "output_type": "execute_result"
    }
   ],
   "source": [
    "x=[[1,2,3], [4,5,6],[7,3,1]]\n",
    "ar=np.array(x)\n",
    "ar"
   ]
  },
  {
   "cell_type": "code",
   "execution_count": 24,
   "id": "08f3729a-6bf4-42d8-a45e-04f17f011da5",
   "metadata": {},
   "outputs": [
    {
     "data": {
      "text/plain": [
       "array([12, 10, 10])"
      ]
     },
     "execution_count": 24,
     "metadata": {},
     "output_type": "execute_result"
    }
   ],
   "source": [
    "ar.sum(axis=0) #sum of each column"
   ]
  },
  {
   "cell_type": "code",
   "execution_count": 25,
   "id": "07164d99-73ca-4317-958a-cf9662c1a006",
   "metadata": {},
   "outputs": [
    {
     "data": {
      "text/plain": [
       "array([ 6, 15, 11])"
      ]
     },
     "execution_count": 25,
     "metadata": {},
     "output_type": "execute_result"
    }
   ],
   "source": [
    "ar.sum(axis=1) #sum of each row"
   ]
  },
  {
   "cell_type": "code",
   "execution_count": 26,
   "id": "e8e85dca-d8d5-435b-8292-8634e232c65c",
   "metadata": {},
   "outputs": [
    {
     "data": {
      "text/plain": [
       "array([[1, 4, 7],\n",
       "       [2, 5, 3],\n",
       "       [3, 6, 1]])"
      ]
     },
     "execution_count": 26,
     "metadata": {},
     "output_type": "execute_result"
    }
   ],
   "source": [
    "ar.T #transpose"
   ]
  },
  {
   "cell_type": "code",
   "execution_count": 27,
   "id": "900f11f9-86a9-44eb-a1ad-e13a7d5b1ae2",
   "metadata": {},
   "outputs": [
    {
     "data": {
      "text/plain": [
       "array([[1, 4, 7],\n",
       "       [2, 5, 3],\n",
       "       [3, 6, 1]])"
      ]
     },
     "execution_count": 27,
     "metadata": {},
     "output_type": "execute_result"
    }
   ],
   "source": [
    "ar.T"
   ]
  },
  {
   "cell_type": "code",
   "execution_count": 28,
   "id": "2b3ca1ba-4a0b-4436-bf29-75bcccdbbe19",
   "metadata": {},
   "outputs": [
    {
     "data": {
      "text/plain": [
       "<numpy.flatiter at 0x1f2be426d00>"
      ]
     },
     "execution_count": 28,
     "metadata": {},
     "output_type": "execute_result"
    }
   ],
   "source": [
    "ar.flat"
   ]
  },
  {
   "cell_type": "code",
   "execution_count": 29,
   "id": "e76f208c-add3-4ddf-b306-89c1123e2278",
   "metadata": {},
   "outputs": [
    {
     "name": "stdout",
     "output_type": "stream",
     "text": [
      "1\n",
      "2\n",
      "3\n",
      "4\n",
      "5\n",
      "6\n",
      "7\n",
      "3\n",
      "1\n"
     ]
    }
   ],
   "source": [
    "for i in ar.flat:\n",
    "    print(i)"
   ]
  },
  {
   "cell_type": "code",
   "execution_count": 30,
   "id": "4a2bc801-b1bd-49da-b9cc-27f4945f7124",
   "metadata": {},
   "outputs": [
    {
     "data": {
      "text/plain": [
       "9"
      ]
     },
     "execution_count": 30,
     "metadata": {},
     "output_type": "execute_result"
    }
   ],
   "source": [
    "ar.size #attribute as no brackets"
   ]
  },
  {
   "cell_type": "code",
   "execution_count": 31,
   "id": "da01671d-04da-4c70-ba9f-5c4e9ea94677",
   "metadata": {},
   "outputs": [
    {
     "data": {
      "text/plain": [
       "36"
      ]
     },
     "execution_count": 31,
     "metadata": {},
     "output_type": "execute_result"
    }
   ],
   "source": [
    "ar.nbytes"
   ]
  },
  {
   "cell_type": "code",
   "execution_count": 32,
   "id": "c23614aa-3818-42fb-ac0f-785853d0408b",
   "metadata": {},
   "outputs": [
    {
     "data": {
      "text/plain": [
       "array([ 1, 23, 34, 45,  3])"
      ]
     },
     "execution_count": 32,
     "metadata": {},
     "output_type": "execute_result"
    }
   ],
   "source": [
    "a1=np.array([1,23,34,45,3])\n",
    "a1"
   ]
  },
  {
   "cell_type": "code",
   "execution_count": 33,
   "id": "3cc989f8-7ca5-46a5-82b9-8a626f4a2636",
   "metadata": {},
   "outputs": [
    {
     "data": {
      "text/plain": [
       "3"
      ]
     },
     "execution_count": 33,
     "metadata": {},
     "output_type": "execute_result"
    }
   ],
   "source": [
    "a1.argmax() #function as bracket, return index"
   ]
  },
  {
   "cell_type": "code",
   "execution_count": 34,
   "id": "dc52bc28-9b57-48b0-9cdc-01d3bb3d4c52",
   "metadata": {},
   "outputs": [
    {
     "data": {
      "text/plain": [
       "array([0, 4, 1, 2, 3], dtype=int64)"
      ]
     },
     "execution_count": 34,
     "metadata": {},
     "output_type": "execute_result"
    }
   ],
   "source": [
    "a1.argsort() #ascending by index"
   ]
  },
  {
   "cell_type": "code",
   "execution_count": 35,
   "id": "2635612e-3975-4ad3-94ee-0bc2fbc93fd2",
   "metadata": {},
   "outputs": [
    {
     "data": {
      "text/plain": [
       "array([[1, 2, 3],\n",
       "       [4, 5, 6],\n",
       "       [7, 3, 1]])"
      ]
     },
     "execution_count": 35,
     "metadata": {},
     "output_type": "execute_result"
    }
   ],
   "source": [
    "ar #2d array"
   ]
  },
  {
   "cell_type": "code",
   "execution_count": 36,
   "id": "fa452d7f-1a17-4c1e-b074-cb92095f0226",
   "metadata": {},
   "outputs": [
    {
     "data": {
      "text/plain": [
       "array([[0, 1, 2],\n",
       "       [0, 1, 2],\n",
       "       [2, 1, 0]], dtype=int64)"
      ]
     },
     "execution_count": 36,
     "metadata": {},
     "output_type": "execute_result"
    }
   ],
   "source": [
    "ar.argsort() #rreturn index"
   ]
  },
  {
   "cell_type": "code",
   "execution_count": 37,
   "id": "c6d69257-dcfa-4f6d-8bda-fdb669370767",
   "metadata": {},
   "outputs": [
    {
     "data": {
      "text/plain": [
       "array([2, 1, 1], dtype=int64)"
      ]
     },
     "execution_count": 37,
     "metadata": {},
     "output_type": "execute_result"
    }
   ],
   "source": [
    "ar.argmax(axis=0)"
   ]
  },
  {
   "cell_type": "code",
   "execution_count": 38,
   "id": "97fa5261-1c27-4b8a-9a24-5f3ae34d3a81",
   "metadata": {},
   "outputs": [
    {
     "data": {
      "text/plain": [
       "array([1, 2, 3, 4, 5, 6, 7, 3, 1])"
      ]
     },
     "execution_count": 38,
     "metadata": {},
     "output_type": "execute_result"
    }
   ],
   "source": [
    "ar.ravel() #convert to 1D array"
   ]
  },
  {
   "cell_type": "code",
   "execution_count": 39,
   "id": "07078df8-d80f-4135-a440-012b31df551f",
   "metadata": {},
   "outputs": [
    {
     "data": {
      "text/plain": [
       "array([[1, 2, 3],\n",
       "       [4, 5, 6],\n",
       "       [7, 3, 1]])"
      ]
     },
     "execution_count": 39,
     "metadata": {},
     "output_type": "execute_result"
    }
   ],
   "source": [
    "ar.reshape((3,3)) #convert to 2D array with any size"
   ]
  },
  {
   "cell_type": "code",
   "execution_count": 40,
   "id": "58d7eeab-33bc-4f19-8ebc-63a448a2409c",
   "metadata": {},
   "outputs": [
    {
     "data": {
      "text/plain": [
       "array([[1, 4, 7],\n",
       "       [2, 5, 3],\n",
       "       [3, 6, 1]])"
      ]
     },
     "execution_count": 40,
     "metadata": {},
     "output_type": "execute_result"
    }
   ],
   "source": [
    "ar2=ar.T\n",
    "ar2"
   ]
  },
  {
   "cell_type": "code",
   "execution_count": 41,
   "id": "63db8aef-92f9-4b7a-978b-4292f434ea77",
   "metadata": {},
   "outputs": [
    {
     "data": {
      "text/plain": [
       "array([[ 2,  6, 10],\n",
       "       [ 6, 10,  9],\n",
       "       [10,  9,  2]])"
      ]
     },
     "execution_count": 41,
     "metadata": {},
     "output_type": "execute_result"
    }
   ],
   "source": [
    "ar+ar2 #cant do it in list But do in array ie matrix"
   ]
  },
  {
   "cell_type": "code",
   "execution_count": 42,
   "id": "aad53425-b3ea-41e7-9026-544b885e1817",
   "metadata": {},
   "outputs": [
    {
     "data": {
      "text/plain": [
       "array([[0, 3, 6],\n",
       "       [1, 4, 2],\n",
       "       [2, 5, 0]])"
      ]
     },
     "execution_count": 42,
     "metadata": {},
     "output_type": "execute_result"
    }
   ],
   "source": [
    "ar2-1"
   ]
  },
  {
   "cell_type": "code",
   "execution_count": 43,
   "id": "e467b30c-2113-4161-bf14-5efeb2461711",
   "metadata": {},
   "outputs": [
    {
     "data": {
      "text/plain": [
       "array([[ 1,  8, 21],\n",
       "       [ 8, 25, 18],\n",
       "       [21, 18,  1]])"
      ]
     },
     "execution_count": 43,
     "metadata": {},
     "output_type": "execute_result"
    }
   ],
   "source": [
    "ar*ar2"
   ]
  },
  {
   "cell_type": "code",
   "execution_count": 44,
   "id": "69d4d80d-d22a-454d-ba50-1e80f5c189bc",
   "metadata": {},
   "outputs": [
    {
     "data": {
      "text/plain": [
       "array([[1.        , 2.        , 2.64575131],\n",
       "       [1.41421356, 2.23606798, 1.73205081],\n",
       "       [1.73205081, 2.44948974, 1.        ]])"
      ]
     },
     "execution_count": 44,
     "metadata": {},
     "output_type": "execute_result"
    }
   ],
   "source": [
    "np.sqrt(ar2)"
   ]
  },
  {
   "cell_type": "code",
   "execution_count": 45,
   "id": "d5ccc0d8-f6a0-4000-a5b3-0b820b5ab9ef",
   "metadata": {},
   "outputs": [
    {
     "data": {
      "text/plain": [
       "32"
      ]
     },
     "execution_count": 45,
     "metadata": {},
     "output_type": "execute_result"
    }
   ],
   "source": [
    "ar.sum()"
   ]
  },
  {
   "cell_type": "code",
   "execution_count": 46,
   "id": "89e80365-f829-4212-99be-b3f5b7d784fd",
   "metadata": {},
   "outputs": [
    {
     "data": {
      "text/plain": [
       "7"
      ]
     },
     "execution_count": 46,
     "metadata": {},
     "output_type": "execute_result"
    }
   ],
   "source": [
    "ar.max()"
   ]
  },
  {
   "cell_type": "code",
   "execution_count": 47,
   "id": "b92a2ee0-0dba-4319-9bb3-fc68c3d8d03b",
   "metadata": {},
   "outputs": [
    {
     "data": {
      "text/plain": [
       "(array([1, 2], dtype=int64), array([2, 0], dtype=int64))"
      ]
     },
     "execution_count": 47,
     "metadata": {},
     "output_type": "execute_result"
    }
   ],
   "source": [
    "np.where(ar>5)"
   ]
  },
  {
   "cell_type": "code",
   "execution_count": 48,
   "id": "0b0af32b-a3cd-47d0-b7df-57b696e385c5",
   "metadata": {},
   "outputs": [
    {
     "data": {
      "text/plain": [
       "9"
      ]
     },
     "execution_count": 48,
     "metadata": {},
     "output_type": "execute_result"
    }
   ],
   "source": [
    "np.count_nonzero(ar)"
   ]
  },
  {
   "cell_type": "code",
   "execution_count": 49,
   "id": "5dfb5094-f5bb-4d2d-a997-4f904a14fd6a",
   "metadata": {},
   "outputs": [
    {
     "data": {
      "text/plain": [
       "(array([0, 0, 0, 1, 1, 1, 2, 2, 2], dtype=int64),\n",
       " array([0, 1, 2, 0, 1, 2, 0, 1, 2], dtype=int64))"
      ]
     },
     "execution_count": 49,
     "metadata": {},
     "output_type": "execute_result"
    }
   ],
   "source": [
    "np.nonzero(ar)"
   ]
  },
  {
   "cell_type": "code",
   "execution_count": 50,
   "id": "13f4e26e-3f42-419c-a8b3-96f22902da47",
   "metadata": {},
   "outputs": [],
   "source": [
    "import sys"
   ]
  },
  {
   "cell_type": "code",
   "execution_count": 51,
   "id": "bd22b742-cf42-4bf0-a392-714f87f26535",
   "metadata": {},
   "outputs": [],
   "source": [
    "list_ar=[3,4123,12,4]\n",
    "np_ar=np.array(list_ar)"
   ]
  },
  {
   "cell_type": "code",
   "execution_count": 52,
   "id": "f8c6f6b1-6ccf-4acb-b14e-0e708d103098",
   "metadata": {},
   "outputs": [
    {
     "data": {
      "text/plain": [
       "112"
      ]
     },
     "execution_count": 52,
     "metadata": {},
     "output_type": "execute_result"
    }
   ],
   "source": [
    "sys.getsizeof(1) * len(list_ar) #size of list"
   ]
  },
  {
   "cell_type": "code",
   "execution_count": 53,
   "id": "bd00dfa6-ad7d-4324-bcbf-b55a1d600eb0",
   "metadata": {},
   "outputs": [
    {
     "data": {
      "text/plain": [
       "16"
      ]
     },
     "execution_count": 53,
     "metadata": {},
     "output_type": "execute_result"
    }
   ],
   "source": [
    "np_ar.itemsize * np_ar.size #less storage"
   ]
  },
  {
   "cell_type": "code",
   "execution_count": null,
   "id": "1f82c335-6a93-4d40-8417-93e0c26ca050",
   "metadata": {},
   "outputs": [],
   "source": []
  }
 ],
 "metadata": {
  "kernelspec": {
   "display_name": "Python 3 (ipykernel)",
   "language": "python",
   "name": "python3"
  },
  "language_info": {
   "codemirror_mode": {
    "name": "ipython",
    "version": 3
   },
   "file_extension": ".py",
   "mimetype": "text/x-python",
   "name": "python",
   "nbconvert_exporter": "python",
   "pygments_lexer": "ipython3",
   "version": "3.11.4"
  }
 },
 "nbformat": 4,
 "nbformat_minor": 5
}
